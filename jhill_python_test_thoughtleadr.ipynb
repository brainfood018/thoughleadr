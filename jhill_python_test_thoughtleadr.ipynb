{
 "cells": [
  {
   "cell_type": "markdown",
   "metadata": {},
   "source": [
    "# Jeremy Hill Python Coding Test for Thoughtleadr"
   ]
  },
  {
   "cell_type": "markdown",
   "metadata": {},
   "source": [
    "## Problem 1: Write function to recursively search for specific file extensions within a directory"
   ]
  },
  {
   "cell_type": "code",
   "execution_count": 63,
   "metadata": {
    "collapsed": false
   },
   "outputs": [
    {
     "data": {
      "text/plain": [
       "['/tmp/test/index.js']"
      ]
     },
     "execution_count": 63,
     "metadata": {},
     "output_type": "execute_result"
    }
   ],
   "source": [
    "# Testing multiple extensions\n",
    "import glob\n",
    "extensions = ('*.js', '*.css')\n",
    "files_matching= []\n",
    "for files in extensions:\n",
    "    files_matching.extend(glob.glob(os.path.join('/tmp/test', files)))\n",
    "    \n",
    "files_matching"
   ]
  },
  {
   "cell_type": "code",
   "execution_count": 155,
   "metadata": {
    "collapsed": false
   },
   "outputs": [],
   "source": [
    "import glob\n",
    "import os\n",
    "\n",
    "# Helper function to get the sub-directories in a path\n",
    "def get_directories(path):\n",
    "    return [d for d in glob.iglob(os.path.join(path, '*')) if os.path.isdir(d)]\n",
    "\n",
    "def recursive_glob_multiple_extensions(path, extensions):\n",
    "    \"\"\"Recursively find all files with specified extensions.\n",
    "    \n",
    "    Args:\n",
    "        path (str): The root path to start the search in\n",
    "        extensions (tuple): A tuple of file extensions to filter search results\n",
    "        \n",
    "    Returns:\n",
    "        list: List of matching files and paths in string format\n",
    "    \n",
    "    \"\"\"\n",
    "    # Grab the files with matching extensions\n",
    "    files_matching = []\n",
    "    for extension in extensions:\n",
    "        files_matching.extend(glob.glob(os.path.join(path, extension)))\n",
    "       \n",
    "    # Find all directories and call function on each path\n",
    "    directories = get_directories(path)\n",
    "    if directories:\n",
    "        for directory in directories:\n",
    "            files_matching.extend(recursive_glob_multiple_extensions(os.path.join(path, directory), extensions))\n",
    "    return files_matching\n",
    "\n"
   ]
  },
  {
   "cell_type": "code",
   "execution_count": 156,
   "metadata": {
    "collapsed": false
   },
   "outputs": [
    {
     "data": {
      "text/plain": [
       "['/tmp/test/js', '/tmp/test/static']"
      ]
     },
     "execution_count": 156,
     "metadata": {},
     "output_type": "execute_result"
    }
   ],
   "source": [
    "get_directories('/tmp/test')"
   ]
  },
  {
   "cell_type": "code",
   "execution_count": 157,
   "metadata": {
    "collapsed": false
   },
   "outputs": [
    {
     "name": "stdout",
     "output_type": "stream",
     "text": [
      "files ['/tmp/test/index.js', '/tmp/test/js/main.js', '/tmp/test/static/css/file1.css', '/tmp/test/static/css/file2.css', '/tmp/test/static/css/reset.css', '/tmp/test/static/css/style.css', '/tmp/test/static/js/file1.js', '/tmp/test/static/js/file2.js', '/tmp/test/static/js/file3.js']\n"
     ]
    }
   ],
   "source": [
    "extensions = ('*.js', '*.css')\n",
    "files = recursive_glob_multiple_extensions('/tmp/test/', extensions)\n",
    "print(\"files\", files)"
   ]
  },
  {
   "cell_type": "markdown",
   "metadata": {},
   "source": [
    "## Problem 2: Provide an example of monkey patching."
   ]
  },
  {
   "cell_type": "markdown",
   "metadata": {},
   "source": [
    "Definition: extend or modify code at runtime. \n",
    "You can use monkey patching to patch/fix bugs in third party code or mock out code in testing. Decorators are sometimes used as an example of monkey patching, but decorators in particular aren't declared after the function is defined.\n",
    "\n",
    "Downsides are added complexity, tight coupling with monkey patch and third party libs, potential race conditions with multiple libraries monkey patching, and errors thrown in weird places."
   ]
  },
  {
   "cell_type": "code",
   "execution_count": 72,
   "metadata": {
    "collapsed": false
   },
   "outputs": [
    {
     "name": "stdout",
     "output_type": "stream",
     "text": [
      "Normal pow function: pow\n",
      "Monkey patched pow function: pow\n"
     ]
    }
   ],
   "source": [
    "# Here is an example of a bad patch\n",
    "def my_pow(a, b):\n",
    "    return \"pow\"\n",
    "\n",
    "import math\n",
    "print(\"Normal pow function: {}\".format(math.pow(2,4)))\n",
    "math.pow = my_pow\n",
    "\n",
    "print(\"Monkey patched pow function: {}\".format(math.pow(2,4)))\n"
   ]
  },
  {
   "cell_type": "code",
   "execution_count": 75,
   "metadata": {
    "collapsed": false
   },
   "outputs": [
    {
     "data": {
      "text/plain": [
       "['test2']"
      ]
     },
     "execution_count": 75,
     "metadata": {},
     "output_type": "execute_result"
    }
   ],
   "source": [
    "# Better example?\n",
    "import pandas as pd\n",
    "def filter_on(self, s):\n",
    "    return [c for c in self.columns if s in c]\n",
    "\n",
    "pd.DataFrame.filter_on = filter_on\n",
    "df = pd.DataFrame([list(range(3))], columns=['test1', 'test2', 'test3'])\n",
    "df.filter_on('test2')"
   ]
  },
  {
   "cell_type": "markdown",
   "metadata": {},
   "source": [
    "## Problem 3: Modify recursive function for better performance\n",
    "\n",
    "This looks like the fibonacci sequence problem. Recursive solution isn't efficient for fibonacci. Memoization can help, but iterative approach is typically used"
   ]
  },
  {
   "cell_type": "code",
   "execution_count": 123,
   "metadata": {
    "collapsed": true
   },
   "outputs": [],
   "source": [
    "# Basic recursive solution\n",
    "def fib(n): \n",
    "    if n < 1: return 0\n",
    "    if n == 1: return 1\n",
    "    if n == 2: return 1\n",
    "    return fib(n-1) + fib(n-2)"
   ]
  },
  {
   "cell_type": "code",
   "execution_count": 124,
   "metadata": {
    "collapsed": false
   },
   "outputs": [
    {
     "data": {
      "text/plain": [
       "3524578"
      ]
     },
     "execution_count": 124,
     "metadata": {},
     "output_type": "execute_result"
    }
   ],
   "source": [
    "fib(33)"
   ]
  },
  {
   "cell_type": "code",
   "execution_count": 125,
   "metadata": {
    "collapsed": false
   },
   "outputs": [
    {
     "name": "stdout",
     "output_type": "stream",
     "text": [
      "1 loop, best of 3: 1.18 s per loop\n"
     ]
    }
   ],
   "source": [
    "%timeit fib(33)"
   ]
  },
  {
   "cell_type": "code",
   "execution_count": 126,
   "metadata": {
    "collapsed": true
   },
   "outputs": [],
   "source": [
    "# Memoized example.\n",
    "def memoize(func):\n",
    "    cache = {}\n",
    "    def decorated_function(*args):\n",
    "        if args in cache:\n",
    "            return cache[args]\n",
    "        else:\n",
    "            cache[args] = func(*args)\n",
    "            return cache[args]\n",
    "    return decorated_function\n",
    "\n",
    "@memoize\n",
    "def fib2(n):\n",
    "    if n < 1: return 0\n",
    "    if n == 1: return 1\n",
    "    if n == 2: return 1\n",
    "    return fib2(n-1) + fib2(n-2)"
   ]
  },
  {
   "cell_type": "code",
   "execution_count": 127,
   "metadata": {
    "collapsed": false
   },
   "outputs": [
    {
     "data": {
      "text/plain": [
       "3524578"
      ]
     },
     "execution_count": 127,
     "metadata": {},
     "output_type": "execute_result"
    }
   ],
   "source": [
    "fib2(33)"
   ]
  },
  {
   "cell_type": "code",
   "execution_count": 128,
   "metadata": {
    "collapsed": false
   },
   "outputs": [
    {
     "name": "stdout",
     "output_type": "stream",
     "text": [
      "The slowest run took 9.58 times longer than the fastest. This could mean that an intermediate result is being cached.\n",
      "1000000 loops, best of 3: 211 ns per loop\n"
     ]
    }
   ],
   "source": [
    "%timeit fib2(33)"
   ]
  },
  {
   "cell_type": "code",
   "execution_count": 129,
   "metadata": {
    "collapsed": true
   },
   "outputs": [],
   "source": [
    "# Iterative Solution\n",
    "def fib3(n):\n",
    "    if n < 1: return 0\n",
    "    a, b = 1, 1\n",
    "    for i in range(n-1):\n",
    "        a, b = b, a + b\n",
    "    return a"
   ]
  },
  {
   "cell_type": "code",
   "execution_count": 130,
   "metadata": {
    "collapsed": false
   },
   "outputs": [
    {
     "data": {
      "text/plain": [
       "3524578"
      ]
     },
     "execution_count": 130,
     "metadata": {},
     "output_type": "execute_result"
    }
   ],
   "source": [
    "fib3(33)"
   ]
  },
  {
   "cell_type": "code",
   "execution_count": 131,
   "metadata": {
    "collapsed": false
   },
   "outputs": [
    {
     "name": "stdout",
     "output_type": "stream",
     "text": [
      "1000000 loops, best of 3: 1.89 µs per loop\n"
     ]
    }
   ],
   "source": [
    "%timeit fib3(33)"
   ]
  },
  {
   "cell_type": "code",
   "execution_count": 132,
   "metadata": {
    "collapsed": false
   },
   "outputs": [
    {
     "name": "stdout",
     "output_type": "stream",
     "text": [
      "The Cython extension is already loaded. To reload it, use:\n",
      "  %reload_ext Cython\n"
     ]
    }
   ],
   "source": [
    "%load_ext Cython"
   ]
  },
  {
   "cell_type": "code",
   "execution_count": 152,
   "metadata": {
    "collapsed": false
   },
   "outputs": [],
   "source": [
    "%%cython\n",
    "# Cython Solution\n",
    "def fib4(n):\n",
    "    if n < 1: return 0\n",
    "    cdef int i\n",
    "    cdef int a = 1\n",
    "    cdef b = 1\n",
    "    for i in range(n-1):\n",
    "        a, b = b, a + b\n",
    "    return a"
   ]
  },
  {
   "cell_type": "code",
   "execution_count": 153,
   "metadata": {
    "collapsed": false
   },
   "outputs": [
    {
     "data": {
      "text/plain": [
       "3524578"
      ]
     },
     "execution_count": 153,
     "metadata": {},
     "output_type": "execute_result"
    }
   ],
   "source": [
    "fib4(33)"
   ]
  },
  {
   "cell_type": "code",
   "execution_count": 154,
   "metadata": {
    "collapsed": false
   },
   "outputs": [
    {
     "name": "stdout",
     "output_type": "stream",
     "text": [
      "1000000 loops, best of 3: 989 ns per loop\n"
     ]
    }
   ],
   "source": [
    "%timeit fib4(33)"
   ]
  }
 ],
 "metadata": {
  "kernelspec": {
   "display_name": "Python 3",
   "language": "python",
   "name": "python3"
  },
  "language_info": {
   "codemirror_mode": {
    "name": "ipython",
    "version": 3
   },
   "file_extension": ".py",
   "mimetype": "text/x-python",
   "name": "python",
   "nbconvert_exporter": "python",
   "pygments_lexer": "ipython3",
   "version": "3.6.0"
  }
 },
 "nbformat": 4,
 "nbformat_minor": 2
}
